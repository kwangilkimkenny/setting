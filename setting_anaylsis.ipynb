{
 "cells": [
  {
   "cell_type": "code",
   "execution_count": 13,
   "metadata": {},
   "outputs": [],
   "source": [
    "import re\n",
    "import nltk\n",
    "from nltk.stem import PorterStemmer, LancasterStemmer #어간추출\n",
    "\n",
    "#사용예\n",
    "# st1 = PorterStemmer()\n",
    "# st2 =  LancasterStemmer()\n",
    "\n",
    "# words = [\"fly\", \"flies\", \"flying\", \"flew\", \"flown\"]\n",
    "\n",
    "# print(\"Porter Stemmer   :\", [st1.stem(w) for w in words])\n",
    "# print(\"Lancaster Stemmer:\", [st2.stem(w) for w in words])"
   ]
  },
  {
   "cell_type": "code",
   "execution_count": 8,
   "metadata": {},
   "outputs": [],
   "source": [
    "# fname = input(\"Enter file name: \")\n",
    " \n",
    "# num_words = 0\n",
    " \n",
    "# with open(fname, 'r') as f:\n",
    "#     for line in f:\n",
    "#         words = line.split()\n",
    "#         num_words += len(words)\n",
    "# print(\"Number of words:\")\n",
    "# print(num_words)"
   ]
  },
  {
   "cell_type": "code",
   "execution_count": 9,
   "metadata": {},
   "outputs": [],
   "source": [
    "#txt 파일을 불러온다.\n",
    "text_input=[]\n",
    "\n",
    "file=open(\"data/HarvardEssays.txt\", 'r')\n",
    "\n",
    "while (1):\n",
    "    line=file.readline()\n",
    "\n",
    "    try:escape=line.index('\\n')\n",
    "    except:escape=len(line)\n",
    "    \n",
    "    if line:\n",
    "        text_input.append(line[0:escape])\n",
    "    else:\n",
    "        break\n",
    "    \n",
    "file.close()"
   ]
  },
  {
   "cell_type": "code",
   "execution_count": 16,
   "metadata": {},
   "outputs": [
    {
     "name": "stdout",
     "output_type": "stream",
     "text": [
      "Statistical Physics is a comedy in long-shot. Professor Nir Gov’s lecture (held during the summer camp at the Weizmann Institute of Science, Israel) covered a single topic in physics. However, its application was truly versatile—from cell dynamics to the collaboration patterns of ants. Full of curiosity, I approached him after the lecture and asked to learn more about the magical tool known as Statistical Physics. \n"
     ]
    }
   ],
   "source": [
    "print(text_input[0])"
   ]
  },
  {
   "cell_type": "code",
   "execution_count": 17,
   "metadata": {},
   "outputs": [
    {
     "data": {
      "text/plain": [
       "'Statistical Physics is a comedy in long-shot. Professor Nir Gov’s lecture (held during the summer camp at the Weizmann Institute of Science, Israel) covered a single topic in physics. However, its application was truly versatile—from cell dynamics to the collaboration patterns of ants. Full of curiosity, I approached him after the lecture and asked to learn more about the magical tool known as Statistical Physics.   “Start with ensemble theory,” he advised.   Though, Statistical Physics seemed more of a tragedy, seen in close-up. Spending weeks with several textbooks, I found myself in a maze.   To understand a system, you shall calculate every component’s behavior. This commandment summarizes the physics I had learned for three years at Korea Science Academy (KSA). However, when we consider a system with a myriad of particles, this directive is defied by the virtual impossibility of figuring out the motions of every particle. Instead, physicists construct the ensemble of macroscopic snapshots for a system. The snapshots contain different particle arrangements and movements as a “collection.”  As far as I understood, ensemble theory was similar to understanding the theme of a movie by watching a preview that only consists of the important scenes. Hypothetically, if I were to analyze every actor, every line, and every frame, it would actually hinder me from grasping the overall message of the film. In short, the theory states that a state of matter can be understood without knowing the movements of each and every particle. At odds with my existing beliefs, this new approach refused to settle in my brain. Even well-designed exercise problems in textbooks could not save me from drowning in confusion.   Meanwhile, ensemble theory suggested a possible explanation for unanswered questions from my leadership during the KSA Science Fair. To successfully manage KSA’s largest international festival, I provided detailed instructions to each volunteer. For example, I assigned each of the fifteen volunteers a specific task, like the placement of posters and strict discussion guidelines in sessions, before the start of every presentation. Despite my efforts in trying to control all aspects, some problems emerged as some volunteers starting to miss the detailed plan of action. Initially, I was clueless as I tried to understand how such a detailed plan and execution could go haywire; however, as my knowledge in ensemble theory deepened, I began to realize the fundamental problems rooted in my approach.   Instead of micromanagement, I should have viewed KSASF as an ensemble and seen the bigger picture of KSASF. As the head volunteer, I should have been brave enough to take a step back, observe, and created a macroscopic background that honors the core essence of KSASF—the exchange of scientific ideas.   Given a second chance to be the head volunteer of the KSA Youth Science Camp, a mentoring event for sixty elementary and middle school students, I envisioned the camp’s activities in the perspective of an ensemble, where each event of the camp should align with the camp’s core message—learning science from inquiries. I designed the events with macroscopic thinking: being relevant to the given theme but minimizing its structure and guidelines. This encouraged the volunteers to be more proactive, fully showing their expertise in dynamic ‘open discussion sessions.’ Compared to KSASF, the camp became more colorful with unpredictable micro-level interactions—one of the topics, Does science make the world better, was initiated from a casual conversation between a volunteer and few participants.   Feeling the power of ensemble theory through a real-life exercise, I could embrace its core idea. I cannot account for every interaction in every millisecond. Regardless, I now believe that we may find ways to grasp the complexity of our world while embracing our limitations and humbly accepting the uncontrollable versatility. From a scientist’s viewpoint, it may sound ironic. Still, ensemble theory taught me to gaze upon the bigger picture, observe how the frames connect and see the true meaning embedded behind all the complexity.   During a Statistical Physics (PH312) class at KAIST, the professor asked me what I knew about the concept of ensemble. After sharing my experiences, he warmly smiled and said: \"Good start.\"'"
      ]
     },
     "execution_count": 17,
     "metadata": {},
     "output_type": "execute_result"
    }
   ],
   "source": [
    "#리스트의 배열값을 String로 변환\n",
    "text_input_str = ' '.join(text_input)\n",
    "text_input_str"
   ]
  },
  {
   "cell_type": "code",
   "execution_count": 18,
   "metadata": {},
   "outputs": [
    {
     "name": "stdout",
     "output_type": "stream",
     "text": [
      "['Statistical', 'Physics', 'is', 'a', 'comedy', 'in', 'long-shot', '.', 'Professor', 'Nir', 'Gov', '’', 's', 'lecture', '(', 'held', 'during', 'the', 'summer', 'camp', 'at', 'the', 'Weizmann', 'Institute', 'of', 'Science', ',', 'Israel', ')', 'covered', 'a', 'single', 'topic', 'in', 'physics', '.', 'However', ',', 'its', 'application', 'was', 'truly', 'versatile—from', 'cell', 'dynamics', 'to', 'the', 'collaboration', 'patterns', 'of', 'ants', '.', 'Full', 'of', 'curiosity', ',', 'I', 'approached', 'him', 'after', 'the', 'lecture', 'and', 'asked', 'to', 'learn', 'more', 'about', 'the', 'magical', 'tool', 'known', 'as', 'Statistical', 'Physics', '.', '“', 'Start', 'with', 'ensemble', 'theory', ',', '”', 'he', 'advised', '.', 'Though', ',', 'Statistical', 'Physics', 'seemed', 'more', 'of', 'a', 'tragedy', ',', 'seen', 'in', 'close-up', '.', 'Spending', 'weeks', 'with', 'several', 'textbooks', ',', 'I', 'found', 'myself', 'in', 'a', 'maze', '.', 'To', 'understand', 'a', 'system', ',', 'you', 'shall', 'calculate', 'every', 'component', '’', 's', 'behavior', '.', 'This', 'commandment', 'summarizes', 'the', 'physics', 'I', 'had', 'learned', 'for', 'three', 'years', 'at', 'Korea', 'Science', 'Academy', '(', 'KSA', ')', '.', 'However', ',', 'when', 'we', 'consider', 'a', 'system', 'with', 'a', 'myriad', 'of', 'particles', ',', 'this', 'directive', 'is', 'defied', 'by', 'the', 'virtual', 'impossibility', 'of', 'figuring', 'out', 'the', 'motions', 'of', 'every', 'particle', '.', 'Instead', ',', 'physicists', 'construct', 'the', 'ensemble', 'of', 'macroscopic', 'snapshots', 'for', 'a', 'system', '.', 'The', 'snapshots', 'contain', 'different', 'particle', 'arrangements', 'and', 'movements', 'as', 'a', '“', 'collection.', '”', 'As', 'far', 'as', 'I', 'understood', ',', 'ensemble', 'theory', 'was', 'similar', 'to', 'understanding', 'the', 'theme', 'of', 'a', 'movie', 'by', 'watching', 'a', 'preview', 'that', 'only', 'consists', 'of', 'the', 'important', 'scenes', '.', 'Hypothetically', ',', 'if', 'I', 'were', 'to', 'analyze', 'every', 'actor', ',', 'every', 'line', ',', 'and', 'every', 'frame', ',', 'it', 'would', 'actually', 'hinder', 'me', 'from', 'grasping', 'the', 'overall', 'message', 'of', 'the', 'film', '.', 'In', 'short', ',', 'the', 'theory', 'states', 'that', 'a', 'state', 'of', 'matter', 'can', 'be', 'understood', 'without', 'knowing', 'the', 'movements', 'of', 'each', 'and', 'every', 'particle', '.', 'At', 'odds', 'with', 'my', 'existing', 'beliefs', ',', 'this', 'new', 'approach', 'refused', 'to', 'settle', 'in', 'my', 'brain', '.', 'Even', 'well-designed', 'exercise', 'problems', 'in', 'textbooks', 'could', 'not', 'save', 'me', 'from', 'drowning', 'in', 'confusion', '.', 'Meanwhile', ',', 'ensemble', 'theory', 'suggested', 'a', 'possible', 'explanation', 'for', 'unanswered', 'questions', 'from', 'my', 'leadership', 'during', 'the', 'KSA', 'Science', 'Fair', '.', 'To', 'successfully', 'manage', 'KSA', '’', 's', 'largest', 'international', 'festival', ',', 'I', 'provided', 'detailed', 'instructions', 'to', 'each', 'volunteer', '.', 'For', 'example', ',', 'I', 'assigned', 'each', 'of', 'the', 'fifteen', 'volunteers', 'a', 'specific', 'task', ',', 'like', 'the', 'placement', 'of', 'posters', 'and', 'strict', 'discussion', 'guidelines', 'in', 'sessions', ',', 'before', 'the', 'start', 'of', 'every', 'presentation', '.', 'Despite', 'my', 'efforts', 'in', 'trying', 'to', 'control', 'all', 'aspects', ',', 'some', 'problems', 'emerged', 'as', 'some', 'volunteers', 'starting', 'to', 'miss', 'the', 'detailed', 'plan', 'of', 'action', '.', 'Initially', ',', 'I', 'was', 'clueless', 'as', 'I', 'tried', 'to', 'understand', 'how', 'such', 'a', 'detailed', 'plan', 'and', 'execution', 'could', 'go', 'haywire', ';', 'however', ',', 'as', 'my', 'knowledge', 'in', 'ensemble', 'theory', 'deepened', ',', 'I', 'began', 'to', 'realize', 'the', 'fundamental', 'problems', 'rooted', 'in', 'my', 'approach', '.', 'Instead', 'of', 'micromanagement', ',', 'I', 'should', 'have', 'viewed', 'KSASF', 'as', 'an', 'ensemble', 'and', 'seen', 'the', 'bigger', 'picture', 'of', 'KSASF', '.', 'As', 'the', 'head', 'volunteer', ',', 'I', 'should', 'have', 'been', 'brave', 'enough', 'to', 'take', 'a', 'step', 'back', ',', 'observe', ',', 'and', 'created', 'a', 'macroscopic', 'background', 'that', 'honors', 'the', 'core', 'essence', 'of', 'KSASF—the', 'exchange', 'of', 'scientific', 'ideas', '.', 'Given', 'a', 'second', 'chance', 'to', 'be', 'the', 'head', 'volunteer', 'of', 'the', 'KSA', 'Youth', 'Science', 'Camp', ',', 'a', 'mentoring', 'event', 'for', 'sixty', 'elementary', 'and', 'middle', 'school', 'students', ',', 'I', 'envisioned', 'the', 'camp', '’', 's', 'activities', 'in', 'the', 'perspective', 'of', 'an', 'ensemble', ',', 'where', 'each', 'event', 'of', 'the', 'camp', 'should', 'align', 'with', 'the', 'camp', '’', 's', 'core', 'message—learning', 'science', 'from', 'inquiries', '.', 'I', 'designed', 'the', 'events', 'with', 'macroscopic', 'thinking', ':', 'being', 'relevant', 'to', 'the', 'given', 'theme', 'but', 'minimizing', 'its', 'structure', 'and', 'guidelines', '.', 'This', 'encouraged', 'the', 'volunteers', 'to', 'be', 'more', 'proactive', ',', 'fully', 'showing', 'their', 'expertise', 'in', 'dynamic', '‘', 'open', 'discussion', 'sessions.', '’', 'Compared', 'to', 'KSASF', ',', 'the', 'camp', 'became', 'more', 'colorful', 'with', 'unpredictable', 'micro-level', 'interactions—one', 'of', 'the', 'topics', ',', 'Does', 'science', 'make', 'the', 'world', 'better', ',', 'was', 'initiated', 'from', 'a', 'casual', 'conversation', 'between', 'a', 'volunteer', 'and', 'few', 'participants', '.', 'Feeling', 'the', 'power', 'of', 'ensemble', 'theory', 'through', 'a', 'real-life', 'exercise', ',', 'I', 'could', 'embrace', 'its', 'core', 'idea', '.', 'I', 'can', 'not', 'account', 'for', 'every', 'interaction', 'in', 'every', 'millisecond', '.', 'Regardless', ',', 'I', 'now', 'believe', 'that', 'we', 'may', 'find', 'ways', 'to', 'grasp', 'the', 'complexity', 'of', 'our', 'world', 'while', 'embracing', 'our', 'limitations', 'and', 'humbly', 'accepting', 'the', 'uncontrollable', 'versatility', '.', 'From', 'a', 'scientist', '’', 's', 'viewpoint', ',', 'it', 'may', 'sound', 'ironic', '.', 'Still', ',', 'ensemble', 'theory', 'taught', 'me', 'to', 'gaze', 'upon', 'the', 'bigger', 'picture', ',', 'observe', 'how', 'the', 'frames', 'connect', 'and', 'see', 'the', 'true', 'meaning', 'embedded', 'behind', 'all', 'the', 'complexity', '.', 'During', 'a', 'Statistical', 'Physics', '(', 'PH312', ')', 'class', 'at', 'KAIST', ',', 'the', 'professor', 'asked', 'me', 'what', 'I', 'knew', 'about', 'the', 'concept', 'of', 'ensemble', '.', 'After', 'sharing', 'my', 'experiences', ',', 'he', 'warmly', 'smiled', 'and', 'said', ':', '``', 'Good', 'start', '.', \"''\"]\n"
     ]
    }
   ],
   "source": [
    "#리스트의 문자를 모두 단어별로 분리하자\n",
    "from nltk.tokenize import word_tokenize\n",
    "tokenized_input = word_tokenize(text_input_str)\n",
    "print(tokenized_input)"
   ]
  },
  {
   "cell_type": "code",
   "execution_count": 31,
   "metadata": {
    "scrolled": true
   },
   "outputs": [
    {
     "data": {
      "text/plain": [
       "['during',\n",
       " 'during',\n",
       " 'Statistical',\n",
       " 'at',\n",
       " 'application',\n",
       " 'versatile—from',\n",
       " 'collaboration',\n",
       " 'patterns',\n",
       " 'Statistical',\n",
       " 'Statistical',\n",
       " 'calculate',\n",
       " 'at',\n",
       " 'watching',\n",
       " 'that',\n",
       " 'states',\n",
       " 'that',\n",
       " 'state',\n",
       " 'matter',\n",
       " 'explanation',\n",
       " 'international',\n",
       " 'presentation',\n",
       " 'created',\n",
       " 'that',\n",
       " 'initiated',\n",
       " 'conversation',\n",
       " 'that',\n",
       " 'limitations',\n",
       " 'versatility',\n",
       " 'Statistical',\n",
       " 'at',\n",
       " 'what',\n",
       " 'after',\n",
       " 'long-shot']"
      ]
     },
     "execution_count": 31,
     "metadata": {},
     "output_type": "execute_result"
    }
   ],
   "source": [
    "# 문장에서 셋팅과 관련된 단어를 찾아보자\n",
    "\n",
    "settingKeywords = [ 'during', 'in the', 'since', 'at', 'until', 'ago', 'yet', 'after', 'past', 'long', 'just' ]\n",
    "\n",
    "#리스트 안의 스트링 값을 반복문으로 하나씩 꺼내서 토큰화된 스트링과 비교해서 같으면 추출한다. \n",
    "\n",
    "extract_st_wd = []\n",
    "\n",
    "for i in settingKeywords:\n",
    "    for s in tokenized_input: #토큰화된 리스트에서 단어를 하나씩 뽑아서\n",
    "        if i in s: #추출한 리스트안에 단어사전을 만든 것이 있으면 extract_st_wd에 append한다.  \n",
    "            extract_st_wd.append(s)\n",
    "\n",
    "extract_st_wd #셋팅과 연관된 단어 추출\n",
    "\n"
   ]
  },
  {
   "cell_type": "code",
   "execution_count": 54,
   "metadata": {},
   "outputs": [],
   "source": [
    "# 리스트인 extract_st_wd에 저장한 단어들을 서로 비교해서 카운트를 한다.\n",
    "def word_count(text):\n",
    "    wordAll=text\n",
    "    wordDic={}\n",
    "    for i in wordAll:\n",
    "        wordCnt=wordAll.count(i);\n",
    "        wordDic[i]=wordCnt\n",
    "    \n",
    "    print(\"입력한 문장에서 setting과 연관된 단어과 사용빈도는 다음과 같다.\\n\")\n",
    "\n",
    "    for cnts in wordDic:\n",
    "        print(cnts,\" : \",wordDic[cnts])\n",
    "\n",
    "    return"
   ]
  },
  {
   "cell_type": "code",
   "execution_count": 55,
   "metadata": {},
   "outputs": [
    {
     "name": "stdout",
     "output_type": "stream",
     "text": [
      "입력한 문장에서 setting과 연관된 단어과 사용빈도는 다음과 같다.\n",
      "\n",
      "during  :  2\n",
      "Statistical  :  4\n",
      "at  :  3\n",
      "application  :  1\n",
      "versatile—from  :  1\n",
      "collaboration  :  1\n",
      "patterns  :  1\n",
      "calculate  :  1\n",
      "watching  :  1\n",
      "that  :  4\n",
      "states  :  1\n",
      "state  :  1\n",
      "matter  :  1\n",
      "explanation  :  1\n",
      "international  :  1\n",
      "presentation  :  1\n",
      "created  :  1\n",
      "initiated  :  1\n",
      "conversation  :  1\n",
      "limitations  :  1\n",
      "versatility  :  1\n",
      "what  :  1\n",
      "after  :  1\n",
      "long-shot  :  1\n"
     ]
    }
   ],
   "source": [
    "word_count(extract_st_wd)"
   ]
  },
  {
   "cell_type": "code",
   "execution_count": null,
   "metadata": {},
   "outputs": [],
   "source": [
    "# 전체 문장에서 사용 비율을 계산해보자!!!!!!\n"
   ]
  },
  {
   "cell_type": "code",
   "execution_count": null,
   "metadata": {},
   "outputs": [],
   "source": []
  },
  {
   "cell_type": "code",
   "execution_count": null,
   "metadata": {},
   "outputs": [],
   "source": []
  }
 ],
 "metadata": {
  "kernelspec": {
   "display_name": "Python 3",
   "language": "python",
   "name": "python3"
  },
  "language_info": {
   "codemirror_mode": {
    "name": "ipython",
    "version": 3
   },
   "file_extension": ".py",
   "mimetype": "text/x-python",
   "name": "python",
   "nbconvert_exporter": "python",
   "pygments_lexer": "ipython3",
   "version": "3.7.7"
  }
 },
 "nbformat": 4,
 "nbformat_minor": 4
}
